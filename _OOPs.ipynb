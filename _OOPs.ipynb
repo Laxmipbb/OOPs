{
 "cells": [
  {
   "cell_type": "code",
   "execution_count": 1,
   "id": "ded70c52-61f9-49f1-8d4e-c7aa50aa62ef",
   "metadata": {},
   "outputs": [],
   "source": [
    " a = 1"
   ]
  },
  {
   "cell_type": "code",
   "execution_count": 2,
   "id": "8907e041-6dfc-4212-a5ac-7ab721d44b7c",
   "metadata": {},
   "outputs": [
    {
     "name": "stdout",
     "output_type": "stream",
     "text": [
      "<class 'int'>\n"
     ]
    }
   ],
   "source": [
    "print(type(a))"
   ]
  },
  {
   "cell_type": "code",
   "execution_count": 3,
   "id": "14cb32a4-b523-451b-a37e-dfab320c4969",
   "metadata": {},
   "outputs": [
    {
     "name": "stdout",
     "output_type": "stream",
     "text": [
      "<class 'str'>\n"
     ]
    }
   ],
   "source": [
    "print(type(\"pwskills\"))"
   ]
  },
  {
   "cell_type": "code",
   "execution_count": 4,
   "id": "1782ba25-8e06-4527-8fd5-32adf1d9083b",
   "metadata": {},
   "outputs": [],
   "source": [
    "class test :\n",
    "    pass"
   ]
  },
  {
   "cell_type": "code",
   "execution_count": 5,
   "id": "ab69e2d9-4264-4492-80da-a002fb0e3b49",
   "metadata": {},
   "outputs": [],
   "source": [
    "a = test()"
   ]
  },
  {
   "cell_type": "code",
   "execution_count": 6,
   "id": "51e7e417-164c-43e9-b795-b8ab62de2a1a",
   "metadata": {},
   "outputs": [
    {
     "data": {
      "text/plain": [
       "__main__.test"
      ]
     },
     "execution_count": 6,
     "metadata": {},
     "output_type": "execute_result"
    }
   ],
   "source": [
    "type(a)"
   ]
  },
  {
   "cell_type": "code",
   "execution_count": 7,
   "id": "033bc3a1-11e2-41cf-bf42-dcc467a154e1",
   "metadata": {},
   "outputs": [
    {
     "name": "stdout",
     "output_type": "stream",
     "text": [
      "<class '__main__.test'>\n"
     ]
    }
   ],
   "source": [
    "print(type(a))"
   ]
  },
  {
   "cell_type": "code",
   "execution_count": 13,
   "id": "466b3621-0496-428e-8b25-198a92330ed0",
   "metadata": {},
   "outputs": [],
   "source": [
    "class pwskills :\n",
    "    \n",
    "    def welcome_msg(self):\n",
    "        print(\"welcome to pwskills\")"
   ]
  },
  {
   "cell_type": "code",
   "execution_count": 14,
   "id": "0b5d7742-09b8-4065-b906-3240567dbe3f",
   "metadata": {},
   "outputs": [],
   "source": [
    "rohan = pwskills()"
   ]
  },
  {
   "cell_type": "code",
   "execution_count": 15,
   "id": "489faedb-2371-4a76-bb5d-ac6ceca5fbd4",
   "metadata": {},
   "outputs": [
    {
     "name": "stdout",
     "output_type": "stream",
     "text": [
      "<class '__main__.pwskills'>\n"
     ]
    }
   ],
   "source": [
    "print(type(rohan))\n",
    "      "
   ]
  },
  {
   "cell_type": "code",
   "execution_count": 16,
   "id": "ad291626-4b0f-410b-b947-9b4eeb941a0a",
   "metadata": {},
   "outputs": [
    {
     "name": "stdout",
     "output_type": "stream",
     "text": [
      "welcome to pwskills\n"
     ]
    }
   ],
   "source": [
    "rohan.welcome_msg()"
   ]
  },
  {
   "cell_type": "code",
   "execution_count": 17,
   "id": "968a6801-3e45-4a9d-873d-d6921bb8c453",
   "metadata": {},
   "outputs": [],
   "source": [
    "gaurav = pwskills()"
   ]
  },
  {
   "cell_type": "code",
   "execution_count": 18,
   "id": "25927f6a-6edf-444b-8066-91a050ad515a",
   "metadata": {},
   "outputs": [
    {
     "name": "stdout",
     "output_type": "stream",
     "text": [
      "welcome to pwskills\n"
     ]
    }
   ],
   "source": [
    "gaurav.welcome_msg()"
   ]
  },
  {
   "cell_type": "code",
   "execution_count": 8,
   "id": "edc444f2-df35-4e43-b822-3ea14a1c168e",
   "metadata": {},
   "outputs": [],
   "source": [
    "class pwskills1 :\n",
    "    \n",
    "    def  __init__(self ,phone_number , email_id ,student_id ):\n",
    "        self.phone_number = phone_number\n",
    "        self.email_id = email_id\n",
    "        self.student_id = student_id\n",
    "        \n",
    "    def  return_student_details(self) :\n",
    "        return self.student_id , self.phone_number ,self.email_id"
   ]
  },
  {
   "cell_type": "code",
   "execution_count": 11,
   "id": "9ba60c7d-8a9e-4975-86ee-e79d755480f6",
   "metadata": {},
   "outputs": [],
   "source": [
    "rohan = pwskills1(23213456233, \"rohan@gmail.com\", 101)"
   ]
  },
  {
   "cell_type": "code",
   "execution_count": 12,
   "id": "85798df7-3b7d-481c-b1fa-b4cf64fe7003",
   "metadata": {},
   "outputs": [
    {
     "data": {
      "text/plain": [
       "(101, 23213456233, 'rohan@gmail.com')"
      ]
     },
     "execution_count": 12,
     "metadata": {},
     "output_type": "execute_result"
    }
   ],
   "source": [
    "rohan.return_student_details()"
   ]
  },
  {
   "cell_type": "code",
   "execution_count": 13,
   "id": "64fc18ad-c8e1-405d-8bc0-27ef4be24019",
   "metadata": {},
   "outputs": [],
   "source": [
    "gaurav = pwskills1(345678234, \"gaurav@gmail.com\" , 102)"
   ]
  },
  {
   "cell_type": "code",
   "execution_count": 14,
   "id": "61560986-1d95-4b23-a466-4c86a8785585",
   "metadata": {},
   "outputs": [
    {
     "data": {
      "text/plain": [
       "(102, 345678234, 'gaurav@gmail.com')"
      ]
     },
     "execution_count": 14,
     "metadata": {},
     "output_type": "execute_result"
    }
   ],
   "source": [
    "gaurav.return_student_details()"
   ]
  },
  {
   "cell_type": "code",
   "execution_count": 16,
   "id": "07e7e0aa-bcd9-4b44-b775-44a586922c14",
   "metadata": {},
   "outputs": [],
   "source": [
    "class pwskills2 :\n",
    "    \n",
    "    def __init__(self ,phone_number ,email_id , student_id) :\n",
    "        self.phone_number1 = phone_number\n",
    "        self.email_id1 = email_id\n",
    "        self.student_id1 = student_id\n",
    "        \n",
    "     \n",
    "    def return_student_details(self) :\n",
    "        return self.student_id ,self.phone_number ,self.email_id\n",
    "        "
   ]
  },
  {
   "cell_type": "code",
   "execution_count": 17,
   "id": "b3f8210a-8938-4e0e-ae8a-5e6502cc1369",
   "metadata": {},
   "outputs": [],
   "source": [
    "sudh = pwskills2(23456789321,\"sudh@gmail.com\" , 342)"
   ]
  },
  {
   "cell_type": "code",
   "execution_count": 18,
   "id": "b6365c37-4b69-4898-a216-c5232208875e",
   "metadata": {},
   "outputs": [
    {
     "data": {
      "text/plain": [
       "23456789321"
      ]
     },
     "execution_count": 18,
     "metadata": {},
     "output_type": "execute_result"
    }
   ],
   "source": [
    "sudh.phone_number1"
   ]
  },
  {
   "cell_type": "code",
   "execution_count": 20,
   "id": "ee212d46-a2d2-4560-b6ce-0abdd9ad2fa7",
   "metadata": {},
   "outputs": [
    {
     "data": {
      "text/plain": [
       "'sudh@gmail.com'"
      ]
     },
     "execution_count": 20,
     "metadata": {},
     "output_type": "execute_result"
    }
   ],
   "source": [
    "sudh.email_id1"
   ]
  },
  {
   "cell_type": "code",
   "execution_count": 21,
   "id": "146a4855-6994-4f51-b57a-955b6dc1b497",
   "metadata": {},
   "outputs": [
    {
     "data": {
      "text/plain": [
       "342"
      ]
     },
     "execution_count": 21,
     "metadata": {},
     "output_type": "execute_result"
    }
   ],
   "source": [
    "sudh.student_id1"
   ]
  },
  {
   "cell_type": "code",
   "execution_count": null,
   "id": "dc07ab04-7119-4949-ac4b-43b5d8bd70c1",
   "metadata": {},
   "outputs": [],
   "source": []
  }
 ],
 "metadata": {
  "kernelspec": {
   "display_name": "Python 3 (ipykernel)",
   "language": "python",
   "name": "python3"
  },
  "language_info": {
   "codemirror_mode": {
    "name": "ipython",
    "version": 3
   },
   "file_extension": ".py",
   "mimetype": "text/x-python",
   "name": "python",
   "nbconvert_exporter": "python",
   "pygments_lexer": "ipython3",
   "version": "3.10.8"
  }
 },
 "nbformat": 4,
 "nbformat_minor": 5
}
